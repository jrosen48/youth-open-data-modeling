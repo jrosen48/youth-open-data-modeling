{
 "cells": [
  {
   "cell_type": "markdown",
   "metadata": {},
   "source": [
    "# First Connect to World"
   ]
  },
  {
   "cell_type": "code",
   "execution_count": 17,
   "metadata": {},
   "outputs": [],
   "source": [
    "from mcpi.minecraft import Minecraft\n",
    "from mcpi import block\n",
    "from mcpi.vec3 import Vec3\n",
    "\n",
    "import time\n",
    "mc = Minecraft.create(\"localhost\")"
   ]
  },
  {
   "cell_type": "markdown",
   "metadata": {},
   "source": [
    "# Explore API\n",
    "\n",
    "Full API documentation\n",
    "\n",
    "https://www.stuffaboutcode.com/p/minecraft-api-reference.html\n",
    "\n",
    "Pre-written scripts for inspiration\n",
    "\n",
    "https://minecraft-stuff.readthedocs.io/en/latest/"
   ]
  },
  {
   "cell_type": "code",
   "execution_count": 2,
   "metadata": {},
   "outputs": [],
   "source": [
    "# chat\n",
    "mc.postToChat(\"Hello World!\")"
   ]
  },
  {
   "cell_type": "code",
   "execution_count": 36,
   "metadata": {},
   "outputs": [
    {
     "name": "stdout",
     "output_type": "stream",
     "text": [
      "0 asdfasdfasdf 1451\n"
     ]
    }
   ],
   "source": [
    "# type \"asdfasdfasdf\" into minecraft chat \"/ <backspace> text\"\n",
    "messages = mc.events.pollChatPosts()\n",
    "for message in messages:\n",
    "    print(message.type, message.message, message.entityId)"
   ]
  },
  {
   "cell_type": "code",
   "execution_count": 27,
   "metadata": {},
   "outputs": [],
   "source": [
    "# change server settings\n",
    "# not sure what this does\n",
    "# mc.setting(setting_name, value)"
   ]
  },
  {
   "cell_type": "code",
   "execution_count": 42,
   "metadata": {},
   "outputs": [
    {
     "name": "stdout",
     "output_type": "stream",
     "text": [
      "101\n",
      "100\n",
      "11\n",
      "11\n",
      "11\n"
     ]
    }
   ],
   "source": [
    "# get height of highest non-air block\n",
    "for i in range(5):\n",
    "    print(mc.getHeight(i, i))"
   ]
  },
  {
   "cell_type": "code",
   "execution_count": 49,
   "metadata": {},
   "outputs": [
    {
     "data": {
      "text/plain": [
       "56"
      ]
     },
     "execution_count": 49,
     "metadata": {},
     "output_type": "execute_result"
    }
   ],
   "source": [
    "# get single block information\n",
    "mc.getBlock(10, 10, 10)"
   ]
  },
  {
   "cell_type": "code",
   "execution_count": 48,
   "metadata": {},
   "outputs": [
    {
     "data": {
      "text/plain": [
       "[56, 0, 0, 0, 0, 0, 0, 0]"
      ]
     },
     "execution_count": 48,
     "metadata": {},
     "output_type": "execute_result"
    }
   ],
   "source": [
    "# get block information in volume\n",
    "list(mc.getBlocks(10, 10, 10, 11, 11, 11))"
   ]
  },
  {
   "cell_type": "code",
   "execution_count": 9,
   "metadata": {},
   "outputs": [],
   "source": [
    "# blocks\n",
    "for i in range(10):\n",
    "    for j in range(10):\n",
    "        mc.setBlock(i, j, 2, block.DIAMOND_BLOCK)"
   ]
  },
  {
   "cell_type": "code",
   "execution_count": 38,
   "metadata": {},
   "outputs": [],
   "source": [
    "# set batch blocks\n",
    "mc.setBlocks(0, 0, 0, 10, 10, 10, block.DIAMOND_ORE)"
   ]
  },
  {
   "cell_type": "code",
   "execution_count": 37,
   "metadata": {},
   "outputs": [
    {
     "name": "stdout",
     "output_type": "stream",
     "text": [
      "1451\n"
     ]
    }
   ],
   "source": [
    "# Get all player entityId\n",
    "\n",
    "entityIds = mc.getPlayerEntityIds()\n",
    "for entity in entityIds:\n",
    "    print(entity)"
   ]
  },
  {
   "cell_type": "code",
   "execution_count": 29,
   "metadata": {},
   "outputs": [
    {
     "name": "stdout",
     "output_type": "stream",
     "text": [
      "Vec3(144.40994839694272,2.0,-121.3235739792832)\n",
      "Vec3(-0.4829639144641231,-0.11753711645832254,0.8677159002692955)\n",
      "6.749984\n"
     ]
    }
   ],
   "source": [
    "# Player Information\n",
    "print(mc.player.getPos())\n",
    "print(mc.player.getDirection())\n",
    "print(mc.player.getPitch())\n",
    "# not sure what player settings are\n",
    "# mc.player.setting(\"autojump\", True)"
   ]
  },
  {
   "cell_type": "code",
   "execution_count": null,
   "metadata": {},
   "outputs": [],
   "source": [
    "# Control Camera\n",
    "# mc.camera..setNormal()\n",
    "# mc.camera.setFixed()\n",
    "# mc.camera.setFollow()\n",
    "# md.camera.setPos(Vec3(0, 0, 0))"
   ]
  },
  {
   "cell_type": "code",
   "execution_count": 20,
   "metadata": {},
   "outputs": [],
   "source": [
    "# Teleport Player\n",
    "for i in range(10):\n",
    "    time.sleep(4)\n",
    "    current_position = mc.player.getPos()\n",
    "    offset = Vec3(0, 2, 0)\n",
    "    mc.player.setTilePos(current_position + offset)"
   ]
  },
  {
   "cell_type": "code",
   "execution_count": 34,
   "metadata": {},
   "outputs": [
    {
     "data": {
      "text/plain": [
       "[]"
      ]
     },
     "execution_count": 34,
     "metadata": {},
     "output_type": "execute_result"
    }
   ],
   "source": [
    "# poll for blocks hit with sword\n",
    "mc.events.pollBlockHits()"
   ]
  },
  {
   "cell_type": "code",
   "execution_count": null,
   "metadata": {},
   "outputs": [],
   "source": []
  }
 ],
 "metadata": {
  "kernelspec": {
   "display_name": "Python 3",
   "language": "python",
   "name": "python3"
  },
  "language_info": {
   "codemirror_mode": {
    "name": "ipython",
    "version": 3
   },
   "file_extension": ".py",
   "mimetype": "text/x-python",
   "name": "python",
   "nbconvert_exporter": "python",
   "pygments_lexer": "ipython3",
   "version": "3.6.4"
  }
 },
 "nbformat": 4,
 "nbformat_minor": 2
}
